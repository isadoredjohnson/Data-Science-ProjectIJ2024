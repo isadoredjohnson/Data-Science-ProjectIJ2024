{
 "cells": [
  {
   "cell_type": "markdown",
   "id": "47c5f73a-9a70-463f-91c4-29adbc564027",
   "metadata": {},
   "source": [
    "# Data Science Tools and Ecosystem"
   ]
  },
  {
   "cell_type": "markdown",
   "id": "620faee7-d4a3-4ccc-bf1e-20e11df85868",
   "metadata": {},
   "source": [
    "In this notebook, Data Science Tools and Ecosystem are summarized."
   ]
  },
  {
   "cell_type": "markdown",
   "id": "ca962c37-0b72-4a33-8357-9af815c11bec",
   "metadata": {},
   "source": [
    "## Author\n",
    "Isadore J"
   ]
  },
  {
   "cell_type": "markdown",
   "id": "31f7ddd4-3cde-43af-a720-9915a44c488b",
   "metadata": {},
   "source": [
    "Objectives: \n",
    "* List popular languages for Data Science\n",
    "* Establish proficiency with Python\n",
    "* Learn how Github works\n",
    "* Use R's statistics\n",
    "* Become more competent as a data scientist."
   ]
  },
  {
   "cell_type": "markdown",
   "id": "ad175ddf-6ca7-48dc-bc85-9e1e0e336351",
   "metadata": {
    "tags": []
   },
   "source": [
    "Some of the popular languages that Data Scientists use are:\n",
    "1. Java\n",
    "2. C++\n",
    "3. SQL"
   ]
  },
  {
   "cell_type": "markdown",
   "id": "62e0043d-a4d1-4d18-9e99-04c425d7208f",
   "metadata": {},
   "source": [
    "| Data Science Tool |\n",
    "|-------------------|\n",
    "| Stata |\n",
    "| Anaconda |\n",
    "| Github |"
   ]
  },
  {
   "cell_type": "markdown",
   "id": "ddaf5a9c-a52a-49af-b802-e63622f9eb73",
   "metadata": {},
   "source": [
    "### Below are a few examples of evaluating arithmetic expressions in Python "
   ]
  },
  {
   "cell_type": "code",
   "execution_count": 13,
   "id": "9089c101-8fe4-43f1-ad6c-955df56ff28a",
   "metadata": {
    "tags": []
   },
   "outputs": [
    {
     "data": {
      "text/plain": [
       "17"
      ]
     },
     "execution_count": 13,
     "metadata": {},
     "output_type": "execute_result"
    }
   ],
   "source": [
    "(3*4)+5"
   ]
  },
  {
   "cell_type": "code",
   "execution_count": 16,
   "id": "48224f13-668c-4d1c-82ce-b5c06c7c4e1e",
   "metadata": {
    "tags": []
   },
   "outputs": [
    {
     "name": "stdout",
     "output_type": "stream",
     "text": [
      "3.3333333333333335\n"
     ]
    }
   ],
   "source": [
    "'This will convert 200 minutes to hours by dividing by 60'\n",
    "min=200\n",
    "hours=min/60\n",
    "print(hours)"
   ]
  },
  {
   "cell_type": "code",
   "execution_count": null,
   "id": "ae82c22a-c25d-414b-a1d2-28f0b2579654",
   "metadata": {},
   "outputs": [],
   "source": []
  }
 ],
 "metadata": {
  "kernelspec": {
   "display_name": "Python",
   "language": "python",
   "name": "conda-env-python-py"
  },
  "language_info": {
   "codemirror_mode": {
    "name": "ipython",
    "version": 3
   },
   "file_extension": ".py",
   "mimetype": "text/x-python",
   "name": "python",
   "nbconvert_exporter": "python",
   "pygments_lexer": "ipython3",
   "version": "3.7.12"
  }
 },
 "nbformat": 4,
 "nbformat_minor": 5
}
